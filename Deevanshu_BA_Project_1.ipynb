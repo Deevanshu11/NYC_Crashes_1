{
 "cells": [
  {
   "cell_type": "code",
   "execution_count": 1,
   "id": "252f8bcc-d8cd-421f-bb32-45d1292a8351",
   "metadata": {
    "tags": []
   },
   "outputs": [],
   "source": [
    "import pandas as pd\n",
    "import numpy as np\n",
    "import seaborn as sns\n",
    "import os\n",
    "import matplotlib.pyplot as plt\n",
    "import phik\n",
    "from IPython.display import Markdown as md\n"
   ]
  },
  {
   "cell_type": "code",
   "execution_count": 2,
   "id": "225fd0f9-29b5-411f-a829-bc7c36344284",
   "metadata": {
    "tags": []
   },
   "outputs": [
    {
     "data": {
      "text/html": [
       "<div>\n",
       "<style scoped>\n",
       "    .dataframe tbody tr th:only-of-type {\n",
       "        vertical-align: middle;\n",
       "    }\n",
       "\n",
       "    .dataframe tbody tr th {\n",
       "        vertical-align: top;\n",
       "    }\n",
       "\n",
       "    .dataframe thead th {\n",
       "        text-align: right;\n",
       "    }\n",
       "</style>\n",
       "<table border=\"1\" class=\"dataframe\">\n",
       "  <thead>\n",
       "    <tr style=\"text-align: right;\">\n",
       "      <th></th>\n",
       "      <th>CRASH DATE_CRASH TIME</th>\n",
       "      <th>BOROUGH</th>\n",
       "      <th>ZIP CODE</th>\n",
       "      <th>LATITUDE</th>\n",
       "      <th>LONGITUDE</th>\n",
       "      <th>LOCATION</th>\n",
       "      <th>ON STREET NAME</th>\n",
       "      <th>CROSS STREET NAME</th>\n",
       "      <th>OFF STREET NAME</th>\n",
       "      <th>NUMBER OF PERSONS INJURED</th>\n",
       "      <th>...</th>\n",
       "      <th>CONTRIBUTING FACTOR VEHICLE 2</th>\n",
       "      <th>CONTRIBUTING FACTOR VEHICLE 3</th>\n",
       "      <th>CONTRIBUTING FACTOR VEHICLE 4</th>\n",
       "      <th>CONTRIBUTING FACTOR VEHICLE 5</th>\n",
       "      <th>COLLISION_ID</th>\n",
       "      <th>VEHICLE TYPE CODE 1</th>\n",
       "      <th>VEHICLE TYPE CODE 2</th>\n",
       "      <th>VEHICLE TYPE CODE 3</th>\n",
       "      <th>VEHICLE TYPE CODE 4</th>\n",
       "      <th>VEHICLE TYPE CODE 5</th>\n",
       "    </tr>\n",
       "  </thead>\n",
       "  <tbody>\n",
       "    <tr>\n",
       "      <th>0</th>\n",
       "      <td>2021-09-11 02:39:00</td>\n",
       "      <td>NaN</td>\n",
       "      <td>NaN</td>\n",
       "      <td>NaN</td>\n",
       "      <td>NaN</td>\n",
       "      <td>NaN</td>\n",
       "      <td>WHITESTONE EXPRESSWAY</td>\n",
       "      <td>20 AVENUE</td>\n",
       "      <td>NaN</td>\n",
       "      <td>2.0</td>\n",
       "      <td>...</td>\n",
       "      <td>Unspecified</td>\n",
       "      <td>NaN</td>\n",
       "      <td>NaN</td>\n",
       "      <td>NaN</td>\n",
       "      <td>4455765</td>\n",
       "      <td>Sedan</td>\n",
       "      <td>Sedan</td>\n",
       "      <td>NaN</td>\n",
       "      <td>NaN</td>\n",
       "      <td>NaN</td>\n",
       "    </tr>\n",
       "    <tr>\n",
       "      <th>1</th>\n",
       "      <td>2022-03-26 11:45:00</td>\n",
       "      <td>NaN</td>\n",
       "      <td>NaN</td>\n",
       "      <td>NaN</td>\n",
       "      <td>NaN</td>\n",
       "      <td>NaN</td>\n",
       "      <td>QUEENSBORO BRIDGE UPPER</td>\n",
       "      <td>NaN</td>\n",
       "      <td>NaN</td>\n",
       "      <td>1.0</td>\n",
       "      <td>...</td>\n",
       "      <td>NaN</td>\n",
       "      <td>NaN</td>\n",
       "      <td>NaN</td>\n",
       "      <td>NaN</td>\n",
       "      <td>4513547</td>\n",
       "      <td>Sedan</td>\n",
       "      <td>NaN</td>\n",
       "      <td>NaN</td>\n",
       "      <td>NaN</td>\n",
       "      <td>NaN</td>\n",
       "    </tr>\n",
       "    <tr>\n",
       "      <th>2</th>\n",
       "      <td>2022-06-29 06:55:00</td>\n",
       "      <td>NaN</td>\n",
       "      <td>NaN</td>\n",
       "      <td>NaN</td>\n",
       "      <td>NaN</td>\n",
       "      <td>NaN</td>\n",
       "      <td>THROGS NECK BRIDGE</td>\n",
       "      <td>NaN</td>\n",
       "      <td>NaN</td>\n",
       "      <td>0.0</td>\n",
       "      <td>...</td>\n",
       "      <td>Unspecified</td>\n",
       "      <td>NaN</td>\n",
       "      <td>NaN</td>\n",
       "      <td>NaN</td>\n",
       "      <td>4541903</td>\n",
       "      <td>Sedan</td>\n",
       "      <td>Pick-up Truck</td>\n",
       "      <td>NaN</td>\n",
       "      <td>NaN</td>\n",
       "      <td>NaN</td>\n",
       "    </tr>\n",
       "    <tr>\n",
       "      <th>3</th>\n",
       "      <td>2021-09-11 09:35:00</td>\n",
       "      <td>BROOKLYN</td>\n",
       "      <td>11208.0</td>\n",
       "      <td>40.667202</td>\n",
       "      <td>-73.866500</td>\n",
       "      <td>(40.667202, -73.8665)</td>\n",
       "      <td>NaN</td>\n",
       "      <td>NaN</td>\n",
       "      <td>1211      LORING AVENUE</td>\n",
       "      <td>0.0</td>\n",
       "      <td>...</td>\n",
       "      <td>NaN</td>\n",
       "      <td>NaN</td>\n",
       "      <td>NaN</td>\n",
       "      <td>NaN</td>\n",
       "      <td>4456314</td>\n",
       "      <td>Sedan</td>\n",
       "      <td>NaN</td>\n",
       "      <td>NaN</td>\n",
       "      <td>NaN</td>\n",
       "      <td>NaN</td>\n",
       "    </tr>\n",
       "    <tr>\n",
       "      <th>4</th>\n",
       "      <td>2021-12-14 08:13:00</td>\n",
       "      <td>BROOKLYN</td>\n",
       "      <td>11233.0</td>\n",
       "      <td>40.683304</td>\n",
       "      <td>-73.917274</td>\n",
       "      <td>(40.683304, -73.917274)</td>\n",
       "      <td>SARATOGA AVENUE</td>\n",
       "      <td>DECATUR STREET</td>\n",
       "      <td>NaN</td>\n",
       "      <td>0.0</td>\n",
       "      <td>...</td>\n",
       "      <td>NaN</td>\n",
       "      <td>NaN</td>\n",
       "      <td>NaN</td>\n",
       "      <td>NaN</td>\n",
       "      <td>4486609</td>\n",
       "      <td>NaN</td>\n",
       "      <td>NaN</td>\n",
       "      <td>NaN</td>\n",
       "      <td>NaN</td>\n",
       "      <td>NaN</td>\n",
       "    </tr>\n",
       "    <tr>\n",
       "      <th>...</th>\n",
       "      <td>...</td>\n",
       "      <td>...</td>\n",
       "      <td>...</td>\n",
       "      <td>...</td>\n",
       "      <td>...</td>\n",
       "      <td>...</td>\n",
       "      <td>...</td>\n",
       "      <td>...</td>\n",
       "      <td>...</td>\n",
       "      <td>...</td>\n",
       "      <td>...</td>\n",
       "      <td>...</td>\n",
       "      <td>...</td>\n",
       "      <td>...</td>\n",
       "      <td>...</td>\n",
       "      <td>...</td>\n",
       "      <td>...</td>\n",
       "      <td>...</td>\n",
       "      <td>...</td>\n",
       "      <td>...</td>\n",
       "      <td>...</td>\n",
       "    </tr>\n",
       "    <tr>\n",
       "      <th>2018240</th>\n",
       "      <td>2023-07-03 18:05:00</td>\n",
       "      <td>NaN</td>\n",
       "      <td>NaN</td>\n",
       "      <td>40.866806</td>\n",
       "      <td>-73.931010</td>\n",
       "      <td>(40.866806, -73.93101)</td>\n",
       "      <td>RIVERSIDE DRIVE</td>\n",
       "      <td>NaN</td>\n",
       "      <td>NaN</td>\n",
       "      <td>0.0</td>\n",
       "      <td>...</td>\n",
       "      <td>Unspecified</td>\n",
       "      <td>NaN</td>\n",
       "      <td>NaN</td>\n",
       "      <td>NaN</td>\n",
       "      <td>4648110</td>\n",
       "      <td>Sedan</td>\n",
       "      <td>Sedan</td>\n",
       "      <td>NaN</td>\n",
       "      <td>NaN</td>\n",
       "      <td>NaN</td>\n",
       "    </tr>\n",
       "    <tr>\n",
       "      <th>2018241</th>\n",
       "      <td>2023-07-22 21:39:00</td>\n",
       "      <td>BRONX</td>\n",
       "      <td>10457.0</td>\n",
       "      <td>40.844177</td>\n",
       "      <td>-73.902920</td>\n",
       "      <td>(40.844177, -73.90292)</td>\n",
       "      <td>EAST 174 STREET</td>\n",
       "      <td>WEBSTER AVENUE</td>\n",
       "      <td>NaN</td>\n",
       "      <td>1.0</td>\n",
       "      <td>...</td>\n",
       "      <td>NaN</td>\n",
       "      <td>NaN</td>\n",
       "      <td>NaN</td>\n",
       "      <td>NaN</td>\n",
       "      <td>4648117</td>\n",
       "      <td>Sedan</td>\n",
       "      <td>NaN</td>\n",
       "      <td>NaN</td>\n",
       "      <td>NaN</td>\n",
       "      <td>NaN</td>\n",
       "    </tr>\n",
       "    <tr>\n",
       "      <th>2018242</th>\n",
       "      <td>2023-07-02 17:55:00</td>\n",
       "      <td>MANHATTAN</td>\n",
       "      <td>10006.0</td>\n",
       "      <td>40.711033</td>\n",
       "      <td>-74.014540</td>\n",
       "      <td>(40.711033, -74.01454)</td>\n",
       "      <td>WEST STREET</td>\n",
       "      <td>LIBERTY STREET</td>\n",
       "      <td>NaN</td>\n",
       "      <td>0.0</td>\n",
       "      <td>...</td>\n",
       "      <td>NaN</td>\n",
       "      <td>NaN</td>\n",
       "      <td>NaN</td>\n",
       "      <td>NaN</td>\n",
       "      <td>4648366</td>\n",
       "      <td>Taxi</td>\n",
       "      <td>NaN</td>\n",
       "      <td>NaN</td>\n",
       "      <td>NaN</td>\n",
       "      <td>NaN</td>\n",
       "    </tr>\n",
       "    <tr>\n",
       "      <th>2018243</th>\n",
       "      <td>2023-07-22 13:15:00</td>\n",
       "      <td>QUEENS</td>\n",
       "      <td>11433.0</td>\n",
       "      <td>40.691580</td>\n",
       "      <td>-73.793190</td>\n",
       "      <td>(40.69158, -73.79319)</td>\n",
       "      <td>110 AVENUE</td>\n",
       "      <td>157 STREET</td>\n",
       "      <td>NaN</td>\n",
       "      <td>1.0</td>\n",
       "      <td>...</td>\n",
       "      <td>Driver Inattention/Distraction</td>\n",
       "      <td>NaN</td>\n",
       "      <td>NaN</td>\n",
       "      <td>NaN</td>\n",
       "      <td>4648129</td>\n",
       "      <td>Station Wagon/Sport Utility Vehicle</td>\n",
       "      <td>E-Bike</td>\n",
       "      <td>NaN</td>\n",
       "      <td>NaN</td>\n",
       "      <td>NaN</td>\n",
       "    </tr>\n",
       "    <tr>\n",
       "      <th>2018244</th>\n",
       "      <td>2023-07-22 03:00:00</td>\n",
       "      <td>QUEENS</td>\n",
       "      <td>11433.0</td>\n",
       "      <td>40.700240</td>\n",
       "      <td>-73.792854</td>\n",
       "      <td>(40.70024, -73.792854)</td>\n",
       "      <td>SOUTH ROAD</td>\n",
       "      <td>164 STREET</td>\n",
       "      <td>NaN</td>\n",
       "      <td>0.0</td>\n",
       "      <td>...</td>\n",
       "      <td>NaN</td>\n",
       "      <td>NaN</td>\n",
       "      <td>NaN</td>\n",
       "      <td>NaN</td>\n",
       "      <td>4647913</td>\n",
       "      <td>Sedan</td>\n",
       "      <td>NaN</td>\n",
       "      <td>NaN</td>\n",
       "      <td>NaN</td>\n",
       "      <td>NaN</td>\n",
       "    </tr>\n",
       "  </tbody>\n",
       "</table>\n",
       "<p>2018245 rows × 28 columns</p>\n",
       "</div>"
      ],
      "text/plain": [
       "        CRASH DATE_CRASH TIME    BOROUGH ZIP CODE   LATITUDE  LONGITUDE  \\\n",
       "0         2021-09-11 02:39:00        NaN      NaN        NaN        NaN   \n",
       "1         2022-03-26 11:45:00        NaN      NaN        NaN        NaN   \n",
       "2         2022-06-29 06:55:00        NaN      NaN        NaN        NaN   \n",
       "3         2021-09-11 09:35:00   BROOKLYN  11208.0  40.667202 -73.866500   \n",
       "4         2021-12-14 08:13:00   BROOKLYN  11233.0  40.683304 -73.917274   \n",
       "...                       ...        ...      ...        ...        ...   \n",
       "2018240   2023-07-03 18:05:00        NaN      NaN  40.866806 -73.931010   \n",
       "2018241   2023-07-22 21:39:00      BRONX  10457.0  40.844177 -73.902920   \n",
       "2018242   2023-07-02 17:55:00  MANHATTAN  10006.0  40.711033 -74.014540   \n",
       "2018243   2023-07-22 13:15:00     QUEENS  11433.0  40.691580 -73.793190   \n",
       "2018244   2023-07-22 03:00:00     QUEENS  11433.0  40.700240 -73.792854   \n",
       "\n",
       "                        LOCATION           ON STREET NAME CROSS STREET NAME  \\\n",
       "0                            NaN    WHITESTONE EXPRESSWAY         20 AVENUE   \n",
       "1                            NaN  QUEENSBORO BRIDGE UPPER               NaN   \n",
       "2                            NaN       THROGS NECK BRIDGE               NaN   \n",
       "3          (40.667202, -73.8665)                      NaN               NaN   \n",
       "4        (40.683304, -73.917274)          SARATOGA AVENUE    DECATUR STREET   \n",
       "...                          ...                      ...               ...   \n",
       "2018240   (40.866806, -73.93101)          RIVERSIDE DRIVE               NaN   \n",
       "2018241   (40.844177, -73.90292)          EAST 174 STREET    WEBSTER AVENUE   \n",
       "2018242   (40.711033, -74.01454)              WEST STREET    LIBERTY STREET   \n",
       "2018243    (40.69158, -73.79319)               110 AVENUE        157 STREET   \n",
       "2018244   (40.70024, -73.792854)               SOUTH ROAD        164 STREET   \n",
       "\n",
       "                 OFF STREET NAME  NUMBER OF PERSONS INJURED  ...  \\\n",
       "0                            NaN                        2.0  ...   \n",
       "1                            NaN                        1.0  ...   \n",
       "2                            NaN                        0.0  ...   \n",
       "3        1211      LORING AVENUE                        0.0  ...   \n",
       "4                            NaN                        0.0  ...   \n",
       "...                          ...                        ...  ...   \n",
       "2018240                      NaN                        0.0  ...   \n",
       "2018241                      NaN                        1.0  ...   \n",
       "2018242                      NaN                        0.0  ...   \n",
       "2018243                      NaN                        1.0  ...   \n",
       "2018244                      NaN                        0.0  ...   \n",
       "\n",
       "          CONTRIBUTING FACTOR VEHICLE 2  CONTRIBUTING FACTOR VEHICLE 3  \\\n",
       "0                           Unspecified                            NaN   \n",
       "1                                   NaN                            NaN   \n",
       "2                           Unspecified                            NaN   \n",
       "3                                   NaN                            NaN   \n",
       "4                                   NaN                            NaN   \n",
       "...                                 ...                            ...   \n",
       "2018240                     Unspecified                            NaN   \n",
       "2018241                             NaN                            NaN   \n",
       "2018242                             NaN                            NaN   \n",
       "2018243  Driver Inattention/Distraction                            NaN   \n",
       "2018244                             NaN                            NaN   \n",
       "\n",
       "         CONTRIBUTING FACTOR VEHICLE 4  CONTRIBUTING FACTOR VEHICLE 5  \\\n",
       "0                                  NaN                            NaN   \n",
       "1                                  NaN                            NaN   \n",
       "2                                  NaN                            NaN   \n",
       "3                                  NaN                            NaN   \n",
       "4                                  NaN                            NaN   \n",
       "...                                ...                            ...   \n",
       "2018240                            NaN                            NaN   \n",
       "2018241                            NaN                            NaN   \n",
       "2018242                            NaN                            NaN   \n",
       "2018243                            NaN                            NaN   \n",
       "2018244                            NaN                            NaN   \n",
       "\n",
       "         COLLISION_ID                  VEHICLE TYPE CODE 1  \\\n",
       "0             4455765                                Sedan   \n",
       "1             4513547                                Sedan   \n",
       "2             4541903                                Sedan   \n",
       "3             4456314                                Sedan   \n",
       "4             4486609                                  NaN   \n",
       "...               ...                                  ...   \n",
       "2018240       4648110                                Sedan   \n",
       "2018241       4648117                                Sedan   \n",
       "2018242       4648366                                 Taxi   \n",
       "2018243       4648129  Station Wagon/Sport Utility Vehicle   \n",
       "2018244       4647913                                Sedan   \n",
       "\n",
       "         VEHICLE TYPE CODE 2 VEHICLE TYPE CODE 3 VEHICLE TYPE CODE 4  \\\n",
       "0                      Sedan                 NaN                 NaN   \n",
       "1                        NaN                 NaN                 NaN   \n",
       "2              Pick-up Truck                 NaN                 NaN   \n",
       "3                        NaN                 NaN                 NaN   \n",
       "4                        NaN                 NaN                 NaN   \n",
       "...                      ...                 ...                 ...   \n",
       "2018240                Sedan                 NaN                 NaN   \n",
       "2018241                  NaN                 NaN                 NaN   \n",
       "2018242                  NaN                 NaN                 NaN   \n",
       "2018243               E-Bike                 NaN                 NaN   \n",
       "2018244                  NaN                 NaN                 NaN   \n",
       "\n",
       "        VEHICLE TYPE CODE 5  \n",
       "0                       NaN  \n",
       "1                       NaN  \n",
       "2                       NaN  \n",
       "3                       NaN  \n",
       "4                       NaN  \n",
       "...                     ...  \n",
       "2018240                 NaN  \n",
       "2018241                 NaN  \n",
       "2018242                 NaN  \n",
       "2018243                 NaN  \n",
       "2018244                 NaN  \n",
       "\n",
       "[2018245 rows x 28 columns]"
      ]
     },
     "execution_count": 2,
     "metadata": {},
     "output_type": "execute_result"
    }
   ],
   "source": [
    "df = pd.read_pickle(\"shared/Motor_Vehicle_Collisions_-_Crashes.pkl\")\n",
    "df\n"
   ]
  },
  {
   "cell_type": "raw",
   "id": "a187a484-ba33-4e3c-98e4-e0b47ec8f8f8",
   "metadata": {},
   "source": [
    "Q1. Which borough has had the highest total number of crashes reported since 2012? (Ignore missing values)"
   ]
  },
  {
   "cell_type": "code",
   "execution_count": 3,
   "id": "4135d1a1-c457-41ed-a669-31f5a4d0e4ee",
   "metadata": {
    "tags": []
   },
   "outputs": [
    {
     "name": "stdout",
     "output_type": "stream",
     "text": [
      "The most common borough is 'BROOKLYN' with 441026 occurrences.\n"
     ]
    }
   ],
   "source": [
    "df['CRASH DATE_CRASH TIME'] = pd.to_datetime(df['CRASH DATE_CRASH TIME'], format='%Y-%m-%d %H:%M:%S')\n",
    "start_date = pd.to_datetime('2012-01-01 00:00:00', format='%Y-%m-%d %H:%M:%S')\n",
    "end_date = pd.to_datetime('2023-08-15 00:00:00', format='%Y-%m-%d %H:%M:%S')\n",
    "mask = (df['CRASH DATE_CRASH TIME'] >= start_date) & (df['CRASH DATE_CRASH TIME'] <= end_date)\n",
    "\n",
    "most_common_value = df['BOROUGH'].mode().values[0]\n",
    "count = df['BOROUGH'].value_counts()[most_common_value]\n",
    "print(f\"The most common borough is '{most_common_value}' with {count} occurrences.\")"
   ]
  },
  {
   "cell_type": "raw",
   "id": "c0d8782d-7a3b-418f-a686-ba97784a8ef5",
   "metadata": {},
   "source": [
    "Q2. We relate the number of crashes to to the borough's population to find out which borough has the maximum number of crashes for every 100,000 people. Even though the data does not have this information, we can combine the crash data with the population estimates for the boroughs also available from the City of New York's website (https://data.cityofnewyork.us/City-Government/New-York-City-Population-by-Borough-1950-2040/xywu-7bv9)\n",
    "\n",
    "Use the below population estimates for the question that follows:\n",
    "\n",
    "Borough - Population \n",
    "Bronx - 1446788 \n",
    "Brooklyn - 2648452 \n",
    "Manhattan - 1638281 \n",
    "Queens - 2330295 \n",
    "Staten Island - 487155 \n",
    "\n",
    "Considering the entire data set since July 2012, which borough has the most crashes for every 100,000 people? (hint: divide the total count of crashes by the population, and multiply by 100,000)\n",
    "\n"
   ]
  },
  {
   "cell_type": "code",
   "execution_count": 12,
   "id": "1a00d8ca-1552-4ee9-9c47-54954d077283",
   "metadata": {
    "tags": []
   },
   "outputs": [
    {
     "name": "stdout",
     "output_type": "stream",
     "text": [
      "BOROUGH\n",
      "BROOKLYN         441026\n",
      "QUEENS           372457\n",
      "MANHATTAN        313266\n",
      "BRONX            205345\n",
      "STATEN ISLAND     58297\n",
      "Name: count, dtype: int64\n",
      "0.166522179748774\n",
      "0.15983255338916316\n",
      "0.19121628096767282\n",
      "0.14193164444272416\n",
      "0.11966827806345003\n"
     ]
    }
   ],
   "source": [
    "value_counts = df['BOROUGH'].value_counts()\n",
    "print(value_counts)\n",
    "\n",
    "adjusted_BROOKLYN = 441026 / 2648452\n",
    "adjusted_QUEENS = 372457 / 2330295\n",
    "adjusted_MANHATTAN = 313266 / 1638281\n",
    "adjusted_BRONX = 205345 / 1446788\n",
    "adjusted_SI = 58297 / 487155\n",
    "\n",
    "print(adjusted_BROOKLYN)\n",
    "print(adjusted_QUEENS)\n",
    "print(adjusted_MANHATTAN)    \n",
    "print(adjusted_BRONX)    \n",
    "print(adjusted_SI)    \n",
    "    "
   ]
  },
  {
   "cell_type": "raw",
   "id": "88b346c7-2c30-435e-aeee-b4d03c70d6ec",
   "metadata": {},
   "source": [
    "Q3. For a large proportion of the crashes, the 'contributing factor vehicle 1' is a missing value, indicated as 'Unspecified' in the data.\n",
    "\n",
    "Remove all rows where the contributing factor vehicle 1 is not known, leaving only the crashes where only this information is available.\n",
    "\n",
    "For this dataset, what is the leading cause of crashes (ignoring 'Unspecified') (use the field 'CONTRIBUTING FACTOR VEHICLE 1')?\n",
    "\n",
    "What proportion of accidents are attributable to this cause?"
   ]
  },
  {
   "cell_type": "code",
   "execution_count": 13,
   "id": "8c2a8e9d-a6be-471f-85f2-37b3e95e9151",
   "metadata": {
    "tags": []
   },
   "outputs": [
    {
     "name": "stdout",
     "output_type": "stream",
     "text": [
      "CONTRIBUTING FACTOR VEHICLE 1\n",
      "Unspecified                       692736\n",
      "Driver Inattention/Distraction    401262\n",
      "Failure to Yield Right-of-Way     119166\n",
      "Following Too Closely             107467\n",
      "Backing Unsafely                   75042\n",
      "                                   ...  \n",
      "Cell Phone (hand-held)                79\n",
      "Windshield Inadequate                 77\n",
      "Texting                               50\n",
      "Listening/Using Headphones            24\n",
      "1                                     10\n",
      "Name: count, Length: 61, dtype: int64\n"
     ]
    }
   ],
   "source": [
    "value_counts = df['CONTRIBUTING FACTOR VEHICLE 1'].value_counts()\n",
    "print(value_counts)"
   ]
  },
  {
   "cell_type": "code",
   "execution_count": 14,
   "id": "dc00a7d0-08da-4379-a066-624356f2059c",
   "metadata": {
    "tags": []
   },
   "outputs": [
    {
     "name": "stdout",
     "output_type": "stream",
     "text": [
      "0.3027231823572547\n"
     ]
    }
   ],
   "source": [
    "DriverPerCent = 401262 / 1325508\n",
    "print(DriverPerCent)"
   ]
  },
  {
   "cell_type": "raw",
   "id": "e27d2277-58b3-48ef-8d67-95062cc3ddd4",
   "metadata": {},
   "source": [
    "Q4. Continuing from the previous question - the top 3 causes of crashes (ignoring 'Unspecified') account for what proportion of total crashes?"
   ]
  },
  {
   "cell_type": "code",
   "execution_count": 17,
   "id": "0d92556f-5c3e-4145-9198-3b8053e4247c",
   "metadata": {
    "tags": []
   },
   "outputs": [
    {
     "name": "stdout",
     "output_type": "stream",
     "text": [
      "0.4737081933869882\n"
     ]
    }
   ],
   "source": [
    "Top3 =(401262 + 119166 + 107476) / 1325508\n",
    "print(Top3)"
   ]
  },
  {
   "cell_type": "raw",
   "id": "9cab958c-3690-41f9-8a64-a0b2e7969ebb",
   "metadata": {},
   "source": [
    "Q.5 Considering the entire data since 2012 (and, if applicable, ignoring missing values), what is the total count of accidents that involved at least one fatality?"
   ]
  },
  {
   "cell_type": "code",
   "execution_count": 18,
   "id": "e6337070-7f40-4dbb-a588-911ba832b9ae",
   "metadata": {
    "tags": []
   },
   "outputs": [
    {
     "name": "stdout",
     "output_type": "stream",
     "text": [
      "2804\n"
     ]
    }
   ],
   "source": [
    "Fatalities = (df['NUMBER OF PERSONS KILLED'] > 0).sum()\n",
    "print(Fatalities)"
   ]
  },
  {
   "cell_type": "raw",
   "id": "eb871ed8-8c9c-4914-ba9f-75682edad121",
   "metadata": {},
   "source": [
    "Q6. On average, for every 1000 accidents, how many have resulted in at least one person dead? (hint: divide the count of accidents with 1 or more deaths with the total number of accidents, and multiply by 1000)"
   ]
  },
  {
   "cell_type": "code",
   "execution_count": 20,
   "id": "a9ad42e1-5c4d-4005-b033-9107edd0441a",
   "metadata": {
    "tags": []
   },
   "outputs": [
    {
     "name": "stdout",
     "output_type": "stream",
     "text": [
      "1.3893265630914795\n"
     ]
    }
   ],
   "source": [
    "oneDeadPer1000 = Fatalities / 2018244  * 1000\n",
    "print(oneDeadPer1000)"
   ]
  },
  {
   "cell_type": "raw",
   "id": "9d5c7a5a-2205-4c8c-8896-2eade1195b83",
   "metadata": {},
   "source": [
    "Q.7 What proportion of accidents in the data do not have a Borough code?"
   ]
  },
  {
   "cell_type": "code",
   "execution_count": 21,
   "id": "133f022a-be88-425a-9ab8-f810518529d2",
   "metadata": {
    "tags": []
   },
   "outputs": [
    {
     "name": "stdout",
     "output_type": "stream",
     "text": [
      "Column 'BOROUGH' has 627854 NaN values.\n",
      "Column 'ZIP CODE' has 628092 NaN values.\n",
      "Column 'LATITUDE' has 229685 NaN values.\n",
      "Column 'LONGITUDE' has 229685 NaN values.\n",
      "Column 'LOCATION' has 229685 NaN values.\n",
      "Column 'ON STREET NAME' has 424807 NaN values.\n",
      "Column 'CROSS STREET NAME' has 755532 NaN values.\n",
      "Column 'OFF STREET NAME' has 1685810 NaN values.\n",
      "Column 'NUMBER OF PERSONS INJURED' has 18 NaN values.\n",
      "Column 'NUMBER OF PERSONS KILLED' has 31 NaN values.\n",
      "Column 'CONTRIBUTING FACTOR VEHICLE 1' has 6348 NaN values.\n",
      "Column 'CONTRIBUTING FACTOR VEHICLE 2' has 307909 NaN values.\n",
      "Column 'CONTRIBUTING FACTOR VEHICLE 3' has 1875114 NaN values.\n",
      "Column 'CONTRIBUTING FACTOR VEHICLE 4' has 1986122 NaN values.\n",
      "Column 'CONTRIBUTING FACTOR VEHICLE 5' has 2009575 NaN values.\n",
      "Column 'VEHICLE TYPE CODE 1' has 12677 NaN values.\n",
      "Column 'VEHICLE TYPE CODE 2' has 376990 NaN values.\n",
      "Column 'VEHICLE TYPE CODE 3' has 1880098 NaN values.\n",
      "Column 'VEHICLE TYPE CODE 4' has 1987193 NaN values.\n",
      "Column 'VEHICLE TYPE CODE 5' has 2009835 NaN values.\n"
     ]
    }
   ],
   "source": [
    "nan_counts = df.isna().sum()\n",
    "\n",
    "# Print the columns with NaN values and their respective counts\n",
    "for column, count in nan_counts.items():\n",
    "    if count > 0:\n",
    "        print(f\"Column '{column}' has {count} NaN values.\")"
   ]
  },
  {
   "cell_type": "code",
   "execution_count": 23,
   "id": "da55fb03-cc72-4c93-98ce-58d1a4a76a22",
   "metadata": {
    "tags": []
   },
   "outputs": [
    {
     "name": "stdout",
     "output_type": "stream",
     "text": [
      "0.311207168211574\n"
     ]
    }
   ],
   "source": [
    "NaNValBorough = 628092\n",
    "Total = 2018244\n",
    "\n",
    "PercentNANVAL = NaNValBorough / Total\n",
    "\n",
    "print(PercentNANVAL)"
   ]
  },
  {
   "cell_type": "raw",
   "id": "6b0da89b-741f-460d-aa1c-74cf1065cdee",
   "metadata": {},
   "source": [
    "Q8. The fields 'VEHICLE TYPE CODE 1' and 'VEHICLE TYPE CODE 2' represent the first two vehicles involved in the accident. Which combination of vehicles have the most number of accidents?"
   ]
  },
  {
   "cell_type": "code",
   "execution_count": 24,
   "id": "52104219-b6de-4e81-be89-08ad0d729f99",
   "metadata": {
    "tags": []
   },
   "outputs": [
    {
     "name": "stdout",
     "output_type": "stream",
     "text": [
      "Combination(s) of 'VEHICLE TYPE CODE 1' and 'VEHICLE TYPE CODE 2' with the highest occurrence:\n",
      "Combination: Sedan & Sedan, Count: 197944\n"
     ]
    }
   ],
   "source": [
    "combined_series = df['VEHICLE TYPE CODE 1'].astype(str) + ' & ' + df['VEHICLE TYPE CODE 2'].astype(str)\n",
    "\n",
    "combination_counts = combined_series.value_counts()\n",
    "\n",
    "max_occurrence = combination_counts.max()\n",
    "most_common_combinations = combination_counts[combination_counts == max_occurrence]\n",
    "\n",
    "print(\"Combination(s) of 'VEHICLE TYPE CODE 1' and 'VEHICLE TYPE CODE 2' with the highest occurrence:\")\n",
    "for combination, count in most_common_combinations.items():\n",
    "    print(f\"Combination: {combination}, Count: {count}\")"
   ]
  },
  {
   "cell_type": "code",
   "execution_count": null,
   "id": "9d063786-c4d1-4552-9da5-e4d32e6178e4",
   "metadata": {},
   "outputs": [],
   "source": []
  },
  {
   "cell_type": "code",
   "execution_count": null,
   "id": "5e530f3f-7a2c-4f52-ac8f-d5c8a3a2e0cb",
   "metadata": {},
   "outputs": [],
   "source": []
  },
  {
   "cell_type": "code",
   "execution_count": null,
   "id": "bdcd5d9b-6ee6-43fd-9d88-ff801ae34093",
   "metadata": {},
   "outputs": [],
   "source": []
  },
  {
   "cell_type": "code",
   "execution_count": null,
   "id": "2d1ff32f-a948-4ffa-9881-943a4d8e89bd",
   "metadata": {},
   "outputs": [],
   "source": []
  },
  {
   "cell_type": "code",
   "execution_count": null,
   "id": "bdbaed89-7b4e-41a5-869b-d7accc3f1d72",
   "metadata": {},
   "outputs": [],
   "source": []
  },
  {
   "cell_type": "code",
   "execution_count": null,
   "id": "36fa251c-2f85-4b54-8932-9a44b9ba9c2d",
   "metadata": {},
   "outputs": [],
   "source": []
  },
  {
   "cell_type": "code",
   "execution_count": null,
   "id": "65167708-aeca-4c8d-bb99-8581b69f6cc8",
   "metadata": {},
   "outputs": [],
   "source": []
  }
 ],
 "metadata": {
  "kernelspec": {
   "display_name": "Python [conda env:mggy8413]",
   "language": "python",
   "name": "conda-env-mggy8413-py"
  },
  "language_info": {
   "codemirror_mode": {
    "name": "ipython",
    "version": 3
   },
   "file_extension": ".py",
   "mimetype": "text/x-python",
   "name": "python",
   "nbconvert_exporter": "python",
   "pygments_lexer": "ipython3",
   "version": "3.10.12"
  }
 },
 "nbformat": 4,
 "nbformat_minor": 5
}
